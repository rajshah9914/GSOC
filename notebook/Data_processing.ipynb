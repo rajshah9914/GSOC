{
 "cells": [
  {
   "cell_type": "markdown",
   "metadata": {},
   "source": [
    "## Data collection for cancer drug response prediction project\n",
    "This notebook illustrates the data collecting step for the project. Reletaed raw data will be downloaded from websites and then processed into data matrix which will be used as input for the machine learning models.\n",
    "### Downloading raw data from GDSC and COSMIC\n",
    "Genomics of Drug Sensitivity in Cancer (GDSC) provide cancer drug response data over 1001 COSMIC cell lines, which contains Natural log half maximal inhibitory concentration (IC50) and Area under the dose-response curve (AUCs) values for all screened cell line/drug combinations. The list of screened compounds and the corresponding response data can be downloaded from the GDSC website (https://www.cancerrxgene.org/downloads). The cell lines invovled are from COSMIC Cell Lines Project, and the complete cell line profiles such as mutation data, raw gene expression data, and copy number data can be downloaded from the COSMIC website (https://cancer.sanger.ac.uk/cell_lines/download).\n",
    "\n",
    "### Data processing\n",
    "#### Import packages\n",
    "After downloading data from GDSC and COSMIC, we will use Pandas and Numpy packages for data processing.  \n",
    "Pandas: https://pandas.pydata.org/  \n",
    "Numpy: http://www.numpy.org/"
   ]
  },
  {
   "cell_type": "code",
   "execution_count": 1,
   "metadata": {
    "collapsed": true
   },
   "outputs": [],
   "source": [
    "import pandas as pd\n",
    "import numpy as np"
   ]
  },
  {
   "cell_type": "markdown",
   "metadata": {},
   "source": [
    "#### Read cell line information\n",
    "First we need to read the csv file containing cell line details. It lists out the whole set of cell lines used in this project, their identifiers, and what kind of data is included in this study. The COSMIC_ID will be used as the index for our data matrix. The example five rows are listed below."
   ]
  },
  {
   "cell_type": "code",
   "execution_count": 3,
   "metadata": {},
   "outputs": [
    {
     "data": {
      "text/html": [
       "<div>\n",
       "<style>\n",
       "    .dataframe thead tr:only-child th {\n",
       "        text-align: right;\n",
       "    }\n",
       "\n",
       "    .dataframe thead th {\n",
       "        text-align: left;\n",
       "    }\n",
       "\n",
       "    .dataframe tbody tr th {\n",
       "        vertical-align: top;\n",
       "    }\n",
       "</style>\n",
       "<table border=\"1\" class=\"dataframe\">\n",
       "  <thead>\n",
       "    <tr style=\"text-align: right;\">\n",
       "      <th></th>\n",
       "      <th>Sample Name</th>\n",
       "      <th>COSMIC_ID</th>\n",
       "      <th>Whole Exome Sequencing (WES)</th>\n",
       "      <th>Copy Number Alterations (CNA)</th>\n",
       "      <th>Gene Expression</th>\n",
       "      <th>Methylation</th>\n",
       "      <th>Drug\n",
       "Response</th>\n",
       "      <th>GDSC\n",
       "Tissue descriptor 1</th>\n",
       "      <th>GDSC\n",
       "Tissue\n",
       "descriptor 2</th>\n",
       "      <th>Cancer Type\n",
       "(matching TCGA label)</th>\n",
       "      <th>Microsatellite \n",
       "instability Status (MSI)</th>\n",
       "      <th>Screen Medium</th>\n",
       "      <th>Growth Properties</th>\n",
       "    </tr>\n",
       "  </thead>\n",
       "  <tbody>\n",
       "    <tr>\n",
       "      <th>0</th>\n",
       "      <td>A253</td>\n",
       "      <td>906794</td>\n",
       "      <td>Y</td>\n",
       "      <td>Y</td>\n",
       "      <td>Y</td>\n",
       "      <td>Y</td>\n",
       "      <td>Y</td>\n",
       "      <td>aero_dig_tract</td>\n",
       "      <td>head and neck</td>\n",
       "      <td>NaN</td>\n",
       "      <td>MSS/MSI-L</td>\n",
       "      <td>D/F12</td>\n",
       "      <td>Adherent</td>\n",
       "    </tr>\n",
       "    <tr>\n",
       "      <th>1</th>\n",
       "      <td>BB30-HNC</td>\n",
       "      <td>753531</td>\n",
       "      <td>Y</td>\n",
       "      <td>Y</td>\n",
       "      <td>Y</td>\n",
       "      <td>Y</td>\n",
       "      <td>Y</td>\n",
       "      <td>aero_dig_tract</td>\n",
       "      <td>head and neck</td>\n",
       "      <td>HNSC</td>\n",
       "      <td>MSS/MSI-L</td>\n",
       "      <td>D/F12</td>\n",
       "      <td>Adherent</td>\n",
       "    </tr>\n",
       "    <tr>\n",
       "      <th>2</th>\n",
       "      <td>BB49-HNC</td>\n",
       "      <td>753532</td>\n",
       "      <td>Y</td>\n",
       "      <td>Y</td>\n",
       "      <td>Y</td>\n",
       "      <td>Y</td>\n",
       "      <td>Y</td>\n",
       "      <td>aero_dig_tract</td>\n",
       "      <td>head and neck</td>\n",
       "      <td>HNSC</td>\n",
       "      <td>MSS/MSI-L</td>\n",
       "      <td>D/F12</td>\n",
       "      <td>Adherent</td>\n",
       "    </tr>\n",
       "    <tr>\n",
       "      <th>3</th>\n",
       "      <td>BHY</td>\n",
       "      <td>753535</td>\n",
       "      <td>Y</td>\n",
       "      <td>Y</td>\n",
       "      <td>Y</td>\n",
       "      <td>Y</td>\n",
       "      <td>Y</td>\n",
       "      <td>aero_dig_tract</td>\n",
       "      <td>head and neck</td>\n",
       "      <td>HNSC</td>\n",
       "      <td>MSS/MSI-L</td>\n",
       "      <td>D/F12</td>\n",
       "      <td>Adherent</td>\n",
       "    </tr>\n",
       "    <tr>\n",
       "      <th>4</th>\n",
       "      <td>BICR10</td>\n",
       "      <td>1290724</td>\n",
       "      <td>Y</td>\n",
       "      <td>Y</td>\n",
       "      <td>Y</td>\n",
       "      <td>Y</td>\n",
       "      <td>Y</td>\n",
       "      <td>aero_dig_tract</td>\n",
       "      <td>head and neck</td>\n",
       "      <td>HNSC</td>\n",
       "      <td>MSS/MSI-L</td>\n",
       "      <td>D/F12</td>\n",
       "      <td>Adherent</td>\n",
       "    </tr>\n",
       "  </tbody>\n",
       "</table>\n",
       "</div>"
      ],
      "text/plain": [
       "  Sample Name  COSMIC_ID Whole Exome Sequencing (WES)  \\\n",
       "0        A253     906794                            Y   \n",
       "1    BB30-HNC     753531                            Y   \n",
       "2    BB49-HNC     753532                            Y   \n",
       "3         BHY     753535                            Y   \n",
       "4      BICR10    1290724                            Y   \n",
       "\n",
       "  Copy Number Alterations (CNA) Gene Expression Methylation Drug\\nResponse  \\\n",
       "0                             Y               Y           Y              Y   \n",
       "1                             Y               Y           Y              Y   \n",
       "2                             Y               Y           Y              Y   \n",
       "3                             Y               Y           Y              Y   \n",
       "4                             Y               Y           Y              Y   \n",
       "\n",
       "  GDSC\\nTissue descriptor 1 GDSC\\nTissue\\ndescriptor 2  \\\n",
       "0            aero_dig_tract              head and neck   \n",
       "1            aero_dig_tract              head and neck   \n",
       "2            aero_dig_tract              head and neck   \n",
       "3            aero_dig_tract              head and neck   \n",
       "4            aero_dig_tract              head and neck   \n",
       "\n",
       "  Cancer Type\\n(matching TCGA label)  \\\n",
       "0                                NaN   \n",
       "1                               HNSC   \n",
       "2                               HNSC   \n",
       "3                               HNSC   \n",
       "4                               HNSC   \n",
       "\n",
       "  Microsatellite \\ninstability Status (MSI) Screen Medium Growth Properties  \n",
       "0                                 MSS/MSI-L         D/F12          Adherent  \n",
       "1                                 MSS/MSI-L         D/F12          Adherent  \n",
       "2                                 MSS/MSI-L         D/F12          Adherent  \n",
       "3                                 MSS/MSI-L         D/F12          Adherent  \n",
       "4                                 MSS/MSI-L         D/F12          Adherent  "
      ]
     },
     "execution_count": 3,
     "metadata": {},
     "output_type": "execute_result"
    }
   ],
   "source": [
    "cell_lines = pd.read_csv('../data/Cell_Lines_Details.csv', dtype={'COSMIC identifier': int}) \n",
    "cell_lines.rename(columns={'COSMIC identifier':'COSMIC_ID'}, inplace = True)\n",
    "cell_lines.head()"
   ]
  },
  {
   "cell_type": "markdown",
   "metadata": {},
   "source": [
    "#### Read mutation data and build mutation matrix\n",
    "The whole set of mutation profiles is in the file *CosmicCLP_MutantExport.tsv* (as the raw file is too large to upload, you can download it from https://cancer.sanger.ac.uk/cell_lines/download), the coding silent mutation will be removed from the input data, and the format of this file is shown in the example five rows."
   ]
  },
  {
   "cell_type": "code",
   "execution_count": 5,
   "metadata": {},
   "outputs": [
    {
     "data": {
      "text/html": [
       "<div>\n",
       "<style>\n",
       "    .dataframe thead tr:only-child th {\n",
       "        text-align: right;\n",
       "    }\n",
       "\n",
       "    .dataframe thead th {\n",
       "        text-align: left;\n",
       "    }\n",
       "\n",
       "    .dataframe tbody tr th {\n",
       "        vertical-align: top;\n",
       "    }\n",
       "</style>\n",
       "<table border=\"1\" class=\"dataframe\">\n",
       "  <thead>\n",
       "    <tr style=\"text-align: right;\">\n",
       "      <th></th>\n",
       "      <th>Gene name</th>\n",
       "      <th>Accession Number</th>\n",
       "      <th>Gene CDS length</th>\n",
       "      <th>HGNC ID</th>\n",
       "      <th>Sample name</th>\n",
       "      <th>ID_sample</th>\n",
       "      <th>ID_tumour</th>\n",
       "      <th>Primary site</th>\n",
       "      <th>Site subtype 1</th>\n",
       "      <th>Site subtype 2</th>\n",
       "      <th>...</th>\n",
       "      <th>Mutation somatic status</th>\n",
       "      <th>Mutation verification status</th>\n",
       "      <th>Pubmed_PMID</th>\n",
       "      <th>ID_STUDY</th>\n",
       "      <th>Institute</th>\n",
       "      <th>Institute Address</th>\n",
       "      <th>Catalogue Number</th>\n",
       "      <th>Sample source</th>\n",
       "      <th>Tumour origin</th>\n",
       "      <th>Age</th>\n",
       "    </tr>\n",
       "  </thead>\n",
       "  <tbody>\n",
       "    <tr>\n",
       "      <th>0</th>\n",
       "      <td>KRAS</td>\n",
       "      <td>ENST00000311936</td>\n",
       "      <td>567</td>\n",
       "      <td>6407</td>\n",
       "      <td>PL-21</td>\n",
       "      <td>1330991</td>\n",
       "      <td>1241467</td>\n",
       "      <td>haematopoietic_and_lymphoid_tissue</td>\n",
       "      <td>NS</td>\n",
       "      <td>NS</td>\n",
       "      <td>...</td>\n",
       "      <td>Reported in another cancer sample as somatic</td>\n",
       "      <td>Verified</td>\n",
       "      <td>NaN</td>\n",
       "      <td>619</td>\n",
       "      <td>German Collection of Microorganisms and Cell C...</td>\n",
       "      <td>Braunschweig, Germany</td>\n",
       "      <td>ACC 536</td>\n",
       "      <td>cell-line</td>\n",
       "      <td>NS</td>\n",
       "      <td>NaN</td>\n",
       "    </tr>\n",
       "    <tr>\n",
       "      <th>1</th>\n",
       "      <td>P2RY2</td>\n",
       "      <td>ENST00000393596</td>\n",
       "      <td>1134</td>\n",
       "      <td>8541</td>\n",
       "      <td>A375</td>\n",
       "      <td>906793</td>\n",
       "      <td>824317</td>\n",
       "      <td>skin</td>\n",
       "      <td>NS</td>\n",
       "      <td>NS</td>\n",
       "      <td>...</td>\n",
       "      <td>Reported in another cancer sample as somatic</td>\n",
       "      <td>Unverified</td>\n",
       "      <td>NaN</td>\n",
       "      <td>619</td>\n",
       "      <td>American Type Culture Collection (ATCC)</td>\n",
       "      <td>P.O. Box 1549, Manassas, VA 20108, USA</td>\n",
       "      <td>CRL-1619</td>\n",
       "      <td>cell-line</td>\n",
       "      <td>primary</td>\n",
       "      <td>54</td>\n",
       "    </tr>\n",
       "    <tr>\n",
       "      <th>2</th>\n",
       "      <td>SALL4</td>\n",
       "      <td>ENST00000217086</td>\n",
       "      <td>3162</td>\n",
       "      <td>15924</td>\n",
       "      <td>MCC26</td>\n",
       "      <td>1298234</td>\n",
       "      <td>1209288</td>\n",
       "      <td>skin</td>\n",
       "      <td>NS</td>\n",
       "      <td>NS</td>\n",
       "      <td>...</td>\n",
       "      <td>Variant of unknown origin</td>\n",
       "      <td>Unverified</td>\n",
       "      <td>NaN</td>\n",
       "      <td>619</td>\n",
       "      <td>UNKNOWN</td>\n",
       "      <td>UNKNOWN</td>\n",
       "      <td>NaN</td>\n",
       "      <td>cell-line</td>\n",
       "      <td>NS</td>\n",
       "      <td>NaN</td>\n",
       "    </tr>\n",
       "    <tr>\n",
       "      <th>3</th>\n",
       "      <td>TP53</td>\n",
       "      <td>ENST00000413465</td>\n",
       "      <td>858</td>\n",
       "      <td>11998</td>\n",
       "      <td>OV-7</td>\n",
       "      <td>1480360</td>\n",
       "      <td>1404019</td>\n",
       "      <td>ovary</td>\n",
       "      <td>NS</td>\n",
       "      <td>NS</td>\n",
       "      <td>...</td>\n",
       "      <td>Reported in another cancer sample as somatic</td>\n",
       "      <td>Unverified</td>\n",
       "      <td>NaN</td>\n",
       "      <td>619</td>\n",
       "      <td>Cancer Science Institute of Singapore</td>\n",
       "      <td>National University of Singapore</td>\n",
       "      <td>NaN</td>\n",
       "      <td>cell-line</td>\n",
       "      <td>NS</td>\n",
       "      <td>NaN</td>\n",
       "    </tr>\n",
       "    <tr>\n",
       "      <th>5</th>\n",
       "      <td>COL14A1</td>\n",
       "      <td>ENST00000297848</td>\n",
       "      <td>5391</td>\n",
       "      <td>2191</td>\n",
       "      <td>RH-1</td>\n",
       "      <td>971773</td>\n",
       "      <td>887870</td>\n",
       "      <td>soft_tissue</td>\n",
       "      <td>striated_muscle</td>\n",
       "      <td>NS</td>\n",
       "      <td>...</td>\n",
       "      <td>Reported in another cancer sample as somatic</td>\n",
       "      <td>Unverified</td>\n",
       "      <td>NaN</td>\n",
       "      <td>619</td>\n",
       "      <td>St Jude Children's Research Hospital</td>\n",
       "      <td>332 North Lauderdale St., Memphis, TN 38105-27...</td>\n",
       "      <td>NaN</td>\n",
       "      <td>cell-line</td>\n",
       "      <td>metastasis</td>\n",
       "      <td>NaN</td>\n",
       "    </tr>\n",
       "  </tbody>\n",
       "</table>\n",
       "<p>5 rows × 38 columns</p>\n",
       "</div>"
      ],
      "text/plain": [
       "  Gene name Accession Number Gene CDS length HGNC ID Sample name ID_sample  \\\n",
       "0      KRAS  ENST00000311936             567    6407       PL-21   1330991   \n",
       "1     P2RY2  ENST00000393596            1134    8541        A375    906793   \n",
       "2     SALL4  ENST00000217086            3162   15924       MCC26   1298234   \n",
       "3      TP53  ENST00000413465             858   11998        OV-7   1480360   \n",
       "5   COL14A1  ENST00000297848            5391    2191        RH-1    971773   \n",
       "\n",
       "  ID_tumour                        Primary site   Site subtype 1  \\\n",
       "0   1241467  haematopoietic_and_lymphoid_tissue               NS   \n",
       "1    824317                                skin               NS   \n",
       "2   1209288                                skin               NS   \n",
       "3   1404019                               ovary               NS   \n",
       "5    887870                         soft_tissue  striated_muscle   \n",
       "\n",
       "  Site subtype 2 ...                        Mutation somatic status  \\\n",
       "0             NS ...   Reported in another cancer sample as somatic   \n",
       "1             NS ...   Reported in another cancer sample as somatic   \n",
       "2             NS ...                      Variant of unknown origin   \n",
       "3             NS ...   Reported in another cancer sample as somatic   \n",
       "5             NS ...   Reported in another cancer sample as somatic   \n",
       "\n",
       "  Mutation verification status Pubmed_PMID ID_STUDY  \\\n",
       "0                     Verified         NaN      619   \n",
       "1                   Unverified         NaN      619   \n",
       "2                   Unverified         NaN      619   \n",
       "3                   Unverified         NaN      619   \n",
       "5                   Unverified         NaN      619   \n",
       "\n",
       "                                           Institute  \\\n",
       "0  German Collection of Microorganisms and Cell C...   \n",
       "1            American Type Culture Collection (ATCC)   \n",
       "2                                            UNKNOWN   \n",
       "3              Cancer Science Institute of Singapore   \n",
       "5               St Jude Children's Research Hospital   \n",
       "\n",
       "                                   Institute Address Catalogue Number  \\\n",
       "0                              Braunschweig, Germany          ACC 536   \n",
       "1             P.O. Box 1549, Manassas, VA 20108, USA         CRL-1619   \n",
       "2                                            UNKNOWN              NaN   \n",
       "3                   National University of Singapore              NaN   \n",
       "5  332 North Lauderdale St., Memphis, TN 38105-27...              NaN   \n",
       "\n",
       "  Sample source Tumour origin  Age  \n",
       "0     cell-line            NS  NaN  \n",
       "1     cell-line       primary   54  \n",
       "2     cell-line            NS  NaN  \n",
       "3     cell-line            NS  NaN  \n",
       "5     cell-line    metastasis  NaN  \n",
       "\n",
       "[5 rows x 38 columns]"
      ]
     },
     "execution_count": 5,
     "metadata": {},
     "output_type": "execute_result"
    }
   ],
   "source": [
    "mutation = pd.read_csv('../data/CosmicCLP_MutantExport.tsv', sep='\\t', dtype='unicode') \n",
    "mutation = mutation.loc[mutation['Mutation Description'] != 'Substitution - coding silent']  # remove coding silent mutation\n",
    "mutation['Gene name'] = mutation['Gene name'].replace(to_replace=r'_.*', value='', regex=True) # formatting gene names\n",
    "mutation['Gene name'] = mutation['Gene name'].str.upper()\n",
    "mutation.head()"
   ]
  },
  {
   "cell_type": "code",
   "execution_count": 6,
   "metadata": {},
   "outputs": [
    {
     "name": "stdout",
     "output_type": "stream",
     "text": [
      "The number of gene with mutation status is 19392\n"
     ]
    }
   ],
   "source": [
    "genes_mut = list(set(mutation['Gene name']))\n",
    "print(\"The number of gene with mutation status is \" + str(len(genes_mut)))"
   ]
  },
  {
   "cell_type": "markdown",
   "metadata": {},
   "source": [
    "Create a new data matrix to store the mutation status for each cell lines. Each row is the profile of one cell line, and each raw is one gene. If the gene is mutated in a cell line, then the corresponding position in the matrix would be 1 and 0 for wild type. "
   ]
  },
  {
   "cell_type": "code",
   "execution_count": 7,
   "metadata": {
    "collapsed": true
   },
   "outputs": [],
   "source": [
    "mut_df = pd.DataFrame(index=cell_lines['COSMIC_ID'], columns=genes_mut)\n",
    "mut_df = mut_df.fillna(0)\n",
    "gene_name = list(mutation['Gene name'])\n",
    "id_sample = list(mutation['ID_sample'])\n",
    "for i in range(len(mutation)):\n",
    "    if int(id_sample[i]) in mut_df.index:\n",
    "        mut_df.at[int(id_sample[i]), gene_name[i]] = 1"
   ]
  },
  {
   "cell_type": "markdown",
   "metadata": {},
   "source": [
    "Output mutation matrix into csv file, which could be used in model training."
   ]
  },
  {
   "cell_type": "code",
   "execution_count": 9,
   "metadata": {
    "collapsed": true
   },
   "outputs": [],
   "source": [
    "mut_df.to_csv(\"../data/mutation_matrix.csv\")"
   ]
  },
  {
   "cell_type": "markdown",
   "metadata": {},
   "source": [
    "#### Read gene expression data and build expression matrix\n",
    "The whole set of raw expression profiles (with raw expression values) is in the file *CosmicCLP_RawGeneExpression.tsv* (as the raw file is too large to upload, you can download it from https://cancer.sanger.ac.uk/cell_lines/download), and the format of this file is shown in the example five rows. Here the SAMPLE_ID is corresponding to the COSMIC_ID of the cell line list. (You could also use processed expression data, which is *CosmicCLP_CompleteGeneExpression.tsv* if you want)"
   ]
  },
  {
   "cell_type": "code",
   "execution_count": 11,
   "metadata": {},
   "outputs": [
    {
     "data": {
      "text/html": [
       "<div>\n",
       "<style>\n",
       "    .dataframe thead tr:only-child th {\n",
       "        text-align: right;\n",
       "    }\n",
       "\n",
       "    .dataframe thead th {\n",
       "        text-align: left;\n",
       "    }\n",
       "\n",
       "    .dataframe tbody tr th {\n",
       "        vertical-align: top;\n",
       "    }\n",
       "</style>\n",
       "<table border=\"1\" class=\"dataframe\">\n",
       "  <thead>\n",
       "    <tr style=\"text-align: right;\">\n",
       "      <th></th>\n",
       "      <th>SAMPLE_ID</th>\n",
       "      <th>SAMPLE_NAME</th>\n",
       "      <th>GENE_NAME</th>\n",
       "      <th>GENE_EXPRESSION</th>\n",
       "    </tr>\n",
       "  </thead>\n",
       "  <tbody>\n",
       "    <tr>\n",
       "      <th>0</th>\n",
       "      <td>683665</td>\n",
       "      <td>MC-CAR</td>\n",
       "      <td>A1BG</td>\n",
       "      <td>-0.430</td>\n",
       "    </tr>\n",
       "    <tr>\n",
       "      <th>1</th>\n",
       "      <td>683665</td>\n",
       "      <td>MC-CAR</td>\n",
       "      <td>A1CF</td>\n",
       "      <td>-0.860</td>\n",
       "    </tr>\n",
       "    <tr>\n",
       "      <th>2</th>\n",
       "      <td>683665</td>\n",
       "      <td>MC-CAR</td>\n",
       "      <td>A2M</td>\n",
       "      <td>1.070</td>\n",
       "    </tr>\n",
       "    <tr>\n",
       "      <th>3</th>\n",
       "      <td>683665</td>\n",
       "      <td>MC-CAR</td>\n",
       "      <td>A2ML1</td>\n",
       "      <td>0.420</td>\n",
       "    </tr>\n",
       "    <tr>\n",
       "      <th>4</th>\n",
       "      <td>683665</td>\n",
       "      <td>MC-CAR</td>\n",
       "      <td>A3GALT2P</td>\n",
       "      <td>2.740</td>\n",
       "    </tr>\n",
       "  </tbody>\n",
       "</table>\n",
       "</div>"
      ],
      "text/plain": [
       "  SAMPLE_ID SAMPLE_NAME GENE_NAME GENE_EXPRESSION\n",
       "0    683665      MC-CAR      A1BG          -0.430\n",
       "1    683665      MC-CAR      A1CF          -0.860\n",
       "2    683665      MC-CAR       A2M           1.070\n",
       "3    683665      MC-CAR     A2ML1           0.420\n",
       "4    683665      MC-CAR  A3GALT2P           2.740"
      ]
     },
     "execution_count": 11,
     "metadata": {},
     "output_type": "execute_result"
    }
   ],
   "source": [
    "exp = pd.read_csv('../data/CosmicCLP_RawGeneExpression.tsv', sep='\\t', dtype='unicode') \n",
    "exp['GENE_NAME'] = exp['GENE_NAME'].replace(to_replace=r'_.*', value='', regex=True)\n",
    "exp['GENE_NAME'] = exp['GENE_NAME'].str.upper()\n",
    "exp.head()"
   ]
  },
  {
   "cell_type": "code",
   "execution_count": 12,
   "metadata": {},
   "outputs": [
    {
     "name": "stdout",
     "output_type": "stream",
     "text": [
      "The number of gene with expression profile is 16374\n"
     ]
    }
   ],
   "source": [
    "genes_exp = list(set(exp['GENE_NAME']))\n",
    "print(\"The number of gene with expression profile is \" + str(len(genes_exp)))"
   ]
  },
  {
   "cell_type": "markdown",
   "metadata": {},
   "source": [
    "Create a new data matrix to store the expression values. Each row represents the expression profile of one cell line, and each raw is one gene."
   ]
  },
  {
   "cell_type": "code",
   "execution_count": 15,
   "metadata": {},
   "outputs": [
    {
     "name": "stdout",
     "output_type": "stream",
     "text": [
      "2000000/15866406 processed.\n",
      "4000000/15866406 processed.\n",
      "6000000/15866406 processed.\n",
      "8000000/15866406 processed.\n",
      "10000000/15866406 processed.\n",
      "12000000/15866406 processed.\n",
      "14000000/15866406 processed.\n"
     ]
    }
   ],
   "source": [
    "exp_df = pd.DataFrame(index=cell_lines['COSMIC_ID'], columns=genes_exp)\n",
    "gene_name = list(exp['GENE_NAME'])\n",
    "id_sample = list(exp['SAMPLE_ID'])\n",
    "n = len(exp)\n",
    "for i in range(n):\n",
    "    if i % 2000000 == 0 and i > 0:\n",
    "        print(str(i) + \"/\" + str(n) + \" processed.\")\n",
    "    if int(id_sample[i]) in exp_df.index:\n",
    "        exp_df.at[int(id_sample[i]), gene_name[i]] = exp.iloc[i, 3]"
   ]
  },
  {
   "cell_type": "markdown",
   "metadata": {},
   "source": [
    "Output expression matrix into csv file, which could be used in model training."
   ]
  },
  {
   "cell_type": "code",
   "execution_count": 16,
   "metadata": {
    "collapsed": true
   },
   "outputs": [],
   "source": [
    "exp_df.to_csv(\"../data/raw_expression_matrix.csv\")"
   ]
  },
  {
   "cell_type": "markdown",
   "metadata": {},
   "source": [
    "#### Read copy number data and build copy number matrix\n",
    "The whole set of copy number variation information is in the file *CosmicCLP_CompleteCNA.tsv* (as the raw file is too large to upload, you can download it from https://cancer.sanger.ac.uk/cell_lines/download), and the format of this file is shown in the example five rows. Here the ID_SAMPLE is corresponding to the COSMIC_ID of the cell line list."
   ]
  },
  {
   "cell_type": "code",
   "execution_count": 17,
   "metadata": {},
   "outputs": [
    {
     "data": {
      "text/html": [
       "<div>\n",
       "<style>\n",
       "    .dataframe thead tr:only-child th {\n",
       "        text-align: right;\n",
       "    }\n",
       "\n",
       "    .dataframe thead th {\n",
       "        text-align: left;\n",
       "    }\n",
       "\n",
       "    .dataframe tbody tr th {\n",
       "        vertical-align: top;\n",
       "    }\n",
       "</style>\n",
       "<table border=\"1\" class=\"dataframe\">\n",
       "  <thead>\n",
       "    <tr style=\"text-align: right;\">\n",
       "      <th></th>\n",
       "      <th>CNV_ID</th>\n",
       "      <th>ID_GENE</th>\n",
       "      <th>gene_name</th>\n",
       "      <th>ID_SAMPLE</th>\n",
       "      <th>ID_TUMOUR</th>\n",
       "      <th>Primary site</th>\n",
       "      <th>Site subtype 1</th>\n",
       "      <th>Site subtype 2</th>\n",
       "      <th>Site subtype 3</th>\n",
       "      <th>Primary histology</th>\n",
       "      <th>Histology subtype 1</th>\n",
       "      <th>Histology subtype 2</th>\n",
       "      <th>Histology subtype 3</th>\n",
       "      <th>SAMPLE_NAME</th>\n",
       "      <th>TOTAL_CN</th>\n",
       "      <th>MINOR_ALLELE</th>\n",
       "      <th>MUT_TYPE</th>\n",
       "      <th>ID_STUDY</th>\n",
       "      <th>GRCh</th>\n",
       "      <th>Chromosome:G_Start..G_Stop</th>\n",
       "    </tr>\n",
       "  </thead>\n",
       "  <tbody>\n",
       "    <tr>\n",
       "      <th>0</th>\n",
       "      <td>6369721</td>\n",
       "      <td>101525</td>\n",
       "      <td>GYG2P1</td>\n",
       "      <td>683665</td>\n",
       "      <td>611825</td>\n",
       "      <td>haematopoietic_and_lymphoid_tissue</td>\n",
       "      <td>NS</td>\n",
       "      <td>NS</td>\n",
       "      <td>NS</td>\n",
       "      <td>lymphoid_neoplasm</td>\n",
       "      <td>plasma_cell_myeloma</td>\n",
       "      <td>NS</td>\n",
       "      <td>NS</td>\n",
       "      <td>MC-CAR</td>\n",
       "      <td>5</td>\n",
       "      <td>0</td>\n",
       "      <td>gain</td>\n",
       "      <td>619</td>\n",
       "      <td>38</td>\n",
       "      <td>Y:12363966..12512040</td>\n",
       "    </tr>\n",
       "    <tr>\n",
       "      <th>1</th>\n",
       "      <td>6619186</td>\n",
       "      <td>69785</td>\n",
       "      <td>DAZ2</td>\n",
       "      <td>683665</td>\n",
       "      <td>611825</td>\n",
       "      <td>haematopoietic_and_lymphoid_tissue</td>\n",
       "      <td>NS</td>\n",
       "      <td>NS</td>\n",
       "      <td>NS</td>\n",
       "      <td>lymphoid_neoplasm</td>\n",
       "      <td>plasma_cell_myeloma</td>\n",
       "      <td>NS</td>\n",
       "      <td>NS</td>\n",
       "      <td>MC-CAR</td>\n",
       "      <td>7</td>\n",
       "      <td>0</td>\n",
       "      <td>gain</td>\n",
       "      <td>619</td>\n",
       "      <td>38</td>\n",
       "      <td>Y:22477961..24258193</td>\n",
       "    </tr>\n",
       "    <tr>\n",
       "      <th>2</th>\n",
       "      <td>6371065</td>\n",
       "      <td>68758</td>\n",
       "      <td>CTDSPL</td>\n",
       "      <td>683665</td>\n",
       "      <td>611825</td>\n",
       "      <td>haematopoietic_and_lymphoid_tissue</td>\n",
       "      <td>NS</td>\n",
       "      <td>NS</td>\n",
       "      <td>NS</td>\n",
       "      <td>lymphoid_neoplasm</td>\n",
       "      <td>plasma_cell_myeloma</td>\n",
       "      <td>NS</td>\n",
       "      <td>NS</td>\n",
       "      <td>MC-CAR</td>\n",
       "      <td>0</td>\n",
       "      <td>0</td>\n",
       "      <td>loss</td>\n",
       "      <td>619</td>\n",
       "      <td>38</td>\n",
       "      <td>3:37940617..37945438</td>\n",
       "    </tr>\n",
       "    <tr>\n",
       "      <th>3</th>\n",
       "      <td>6388134</td>\n",
       "      <td>55218</td>\n",
       "      <td>LCE3C</td>\n",
       "      <td>683665</td>\n",
       "      <td>611825</td>\n",
       "      <td>haematopoietic_and_lymphoid_tissue</td>\n",
       "      <td>NS</td>\n",
       "      <td>NS</td>\n",
       "      <td>NS</td>\n",
       "      <td>lymphoid_neoplasm</td>\n",
       "      <td>plasma_cell_myeloma</td>\n",
       "      <td>NS</td>\n",
       "      <td>NS</td>\n",
       "      <td>MC-CAR</td>\n",
       "      <td>0</td>\n",
       "      <td>0</td>\n",
       "      <td>loss</td>\n",
       "      <td>619</td>\n",
       "      <td>38</td>\n",
       "      <td>1:152583052..152613763</td>\n",
       "    </tr>\n",
       "    <tr>\n",
       "      <th>4</th>\n",
       "      <td>6619186</td>\n",
       "      <td>69786</td>\n",
       "      <td>CDY1B</td>\n",
       "      <td>683665</td>\n",
       "      <td>611825</td>\n",
       "      <td>haematopoietic_and_lymphoid_tissue</td>\n",
       "      <td>NS</td>\n",
       "      <td>NS</td>\n",
       "      <td>NS</td>\n",
       "      <td>lymphoid_neoplasm</td>\n",
       "      <td>plasma_cell_myeloma</td>\n",
       "      <td>NS</td>\n",
       "      <td>NS</td>\n",
       "      <td>MC-CAR</td>\n",
       "      <td>7</td>\n",
       "      <td>0</td>\n",
       "      <td>gain</td>\n",
       "      <td>619</td>\n",
       "      <td>38</td>\n",
       "      <td>Y:22477961..24258193</td>\n",
       "    </tr>\n",
       "  </tbody>\n",
       "</table>\n",
       "</div>"
      ],
      "text/plain": [
       "    CNV_ID ID_GENE gene_name ID_SAMPLE ID_TUMOUR  \\\n",
       "0  6369721  101525    GYG2P1    683665    611825   \n",
       "1  6619186   69785      DAZ2    683665    611825   \n",
       "2  6371065   68758    CTDSPL    683665    611825   \n",
       "3  6388134   55218     LCE3C    683665    611825   \n",
       "4  6619186   69786     CDY1B    683665    611825   \n",
       "\n",
       "                         Primary site Site subtype 1 Site subtype 2  \\\n",
       "0  haematopoietic_and_lymphoid_tissue             NS             NS   \n",
       "1  haematopoietic_and_lymphoid_tissue             NS             NS   \n",
       "2  haematopoietic_and_lymphoid_tissue             NS             NS   \n",
       "3  haematopoietic_and_lymphoid_tissue             NS             NS   \n",
       "4  haematopoietic_and_lymphoid_tissue             NS             NS   \n",
       "\n",
       "  Site subtype 3  Primary histology  Histology subtype 1 Histology subtype 2  \\\n",
       "0             NS  lymphoid_neoplasm  plasma_cell_myeloma                  NS   \n",
       "1             NS  lymphoid_neoplasm  plasma_cell_myeloma                  NS   \n",
       "2             NS  lymphoid_neoplasm  plasma_cell_myeloma                  NS   \n",
       "3             NS  lymphoid_neoplasm  plasma_cell_myeloma                  NS   \n",
       "4             NS  lymphoid_neoplasm  plasma_cell_myeloma                  NS   \n",
       "\n",
       "  Histology subtype 3 SAMPLE_NAME TOTAL_CN MINOR_ALLELE MUT_TYPE ID_STUDY  \\\n",
       "0                  NS      MC-CAR        5            0     gain      619   \n",
       "1                  NS      MC-CAR        7            0     gain      619   \n",
       "2                  NS      MC-CAR        0            0     loss      619   \n",
       "3                  NS      MC-CAR        0            0     loss      619   \n",
       "4                  NS      MC-CAR        7            0     gain      619   \n",
       "\n",
       "  GRCh Chromosome:G_Start..G_Stop  \n",
       "0   38       Y:12363966..12512040  \n",
       "1   38       Y:22477961..24258193  \n",
       "2   38       3:37940617..37945438  \n",
       "3   38     1:152583052..152613763  \n",
       "4   38       Y:22477961..24258193  "
      ]
     },
     "execution_count": 17,
     "metadata": {},
     "output_type": "execute_result"
    }
   ],
   "source": [
    "cnv = pd.read_csv('../data/CosmicCLP_CompleteCNA.tsv', sep='\\t', dtype='unicode') \n",
    "cnv['gene_name'] = cnv['gene_name'].replace(to_replace=r'_.*', value='', regex=True)     # formatting the gene name as above\n",
    "cnv['gene_name'] = cnv['gene_name'].str.upper()\n",
    "cnv.head()"
   ]
  },
  {
   "cell_type": "code",
   "execution_count": 18,
   "metadata": {},
   "outputs": [
    {
     "name": "stdout",
     "output_type": "stream",
     "text": [
      "The number of gene with copy number variation profile is 17614\n"
     ]
    }
   ],
   "source": [
    "genes_cnv = list(set(cnv['gene_name']))\n",
    "print(\"The number of gene with copy number variation profile is \" + str(len(genes_cnv)))"
   ]
  },
  {
   "cell_type": "code",
   "execution_count": 19,
   "metadata": {
    "collapsed": true
   },
   "outputs": [],
   "source": [
    "cnv_df = pd.DataFrame(index=cell_lines['COSMIC_ID'], columns=genes_cnv)\n",
    "cnv_df = cnv_df.fillna(0)\n",
    "gene_name = list(cnv['gene_name'])\n",
    "id_sample = list(cnv['ID_SAMPLE'])\n",
    "cnv_status = list(cnv['MUT_TYPE'])\n",
    "for i in range(len(cnv)):\n",
    "    if int(id_sample[i]) in cnv_df.index:\n",
    "        cnv_df.at[int(id_sample[i]), gene_name[i]] = cnv_status[i]"
   ]
  },
  {
   "cell_type": "markdown",
   "metadata": {},
   "source": [
    "Output CNV matrix into csv file, which could be used in model training."
   ]
  },
  {
   "cell_type": "code",
   "execution_count": 20,
   "metadata": {
    "collapsed": true
   },
   "outputs": [],
   "source": [
    "cnv_df.to_csv(\"../data/cnv_matrix.csv\")"
   ]
  },
  {
   "cell_type": "markdown",
   "metadata": {},
   "source": [
    "### Generating drug fingerprint matrix for the deep learning model\n",
    "The drug response data only contain IC50 values over several hundred examples(cell lines) for each of the drugs. Then if we build one predicting model for each drug, then we only have hundreds of training examples, which is not enough for the deep learning model. So we changed to input drug as features and build only one comprehensive model, which will be feeded genomic profiles and the drug fingerprints(features) as input and predict the IC50 values. Here, we will build the drug matrix containing features for each drug. "
   ]
  },
  {
   "cell_type": "markdown",
   "metadata": {},
   "source": [
    "#### Read drug list"
   ]
  },
  {
   "cell_type": "code",
   "execution_count": 27,
   "metadata": {},
   "outputs": [
    {
     "name": "stdout",
     "output_type": "stream",
     "text": [
      "  DRUG_ID   DRUG_NAME\n",
      "0       1   Erlotinib\n",
      "1       3   Rapamycin\n",
      "2       5   Sunitinib\n",
      "3       6  PHA-665752\n",
      "4       9      MG-132\n",
      "Total number of drug is 267\n"
     ]
    }
   ],
   "source": [
    "drug_list = pd.read_csv('../data/Screened_Compounds.csv', dtype='unicode')\n",
    "drug_list = drug_list.drop(['SYNONYMS', 'TARGET', 'TARGET_PATHWAY'], axis=1)\n",
    "print(drug_list.head())\n",
    "print('Total number of drug is ' + str(len(list(drug_list['DRUG_ID']))))"
   ]
  },
  {
   "cell_type": "markdown",
   "metadata": {},
   "source": [
    "#### Download drug structure  information from PubChem\n",
    "PubChem is a database of chemical molecules provided by NCBI (https://pubchem.ncbi.nlm.nih.gov/). We will download the SMILES format representation of the drug compounds from this database. For some of the compounds that we can not find in this database, we will manually download from LINCS database (http://lincs.hms.harvard.edu/db/sm/). If we still can not find the structures from both databases, we will remove the drug compounds from our list.  \n",
    "  \n",
    "A python package named Pubchempy (http://pubchempy.readthedocs.io/en/latest/) will be used to retrive SMILES representation from PubChem."
   ]
  },
  {
   "cell_type": "code",
   "execution_count": 22,
   "metadata": {
    "collapsed": true
   },
   "outputs": [],
   "source": [
    "import pubchempy as pcp\n",
    "smiles = []\n",
    "weights = []\n",
    "for drug in list(drug_list['DRUG_NAME']):\n",
    "    results = pcp.get_compounds(drug, 'name')\n",
    "    print(str(drug) + \" \" + str(results))\n",
    "    if results == []:\n",
    "        smiles.append('')\n",
    "        weights.append(0)\n",
    "    else:\n",
    "    #for compound in results:\n",
    "        smiles.append(results[0].isomeric_smiles)\n",
    "        weights.append(results[0].molecular_weight)"
   ]
  },
  {
   "cell_type": "markdown",
   "metadata": {},
   "source": [
    "Store drug SMILES information in a csv file."
   ]
  },
  {
   "cell_type": "code",
   "execution_count": null,
   "metadata": {
    "collapsed": true
   },
   "outputs": [],
   "source": [
    "drugs = pd.DataFrame(index=list(drug_list['DRUG_NAME']), columns=['SMILES', 'Weight'])\n",
    "for i in range(len(drug_list)):\n",
    "    drugs.loc[drug_list[i], 'SMILES'] = smiles[i]\n",
    "    drugs.loc[drug_list[i], 'Weight'] = weights[i]\n",
    "drugs.to_csv('drug_smiles.csv')"
   ]
  },
  {
   "cell_type": "markdown",
   "metadata": {},
   "source": [
    "Write the SMILES of each drugs to an individual file(.smi). The compounds with molecular weight > 1000 will be removed. These files will be used as the input to the PaDEL-Descriptor software in order to generate fingerprints. "
   ]
  },
  {
   "cell_type": "code",
   "execution_count": 30,
   "metadata": {
    "collapsed": true
   },
   "outputs": [],
   "source": [
    "#drugs = pd.read_csv('D:/SNP/drug_smiles.csv') \n",
    "for i in range(251):\n",
    "    if pd.isnull(drugs.iloc[i,1]):\n",
    "        continue\n",
    "    drug_name = drugs.iloc[i,0]\n",
    "    if float(drugs.iloc[i,2]) > 1000:\n",
    "        print(drug_name + ' molecular_weight larger than 1000')\n",
    "        continue\n",
    "    if drug_name == 'VNLG/124':\n",
    "        drug_name = 'VNLG-124'\n",
    "    f = open(\"../data/smiles/\" + drug_name + \".smi\", 'w')\n",
    "    f.write(drugs.iloc[i,1] + ' ' + drugs.iloc[i,0])\n",
    "    f.close()"
   ]
  },
  {
   "cell_type": "markdown",
   "metadata": {},
   "source": [
    "#### Generate fingerprint with PaDEL-Descriptor\n",
    "PaDEL-Descriptor is a software to calculate molecular descriptors and fingerprints (http://www.yapcwsoft.com/dd/padeldescriptor/). You could find the instructions of how to use this software on the website. Here \n",
    "we will use it to extract descriptors of three classes of fingerprints: (1) fingerprinter, (2) extended fingerprinter, and (3) graph only finger-printer. There are 3072 binary descriptors for each drug, which will be used as drug features in our model. So each drug will be represented as a feature vector with 3072 binary features.  \n",
    "The resulting matrix is in the file *drug_fingerprint_complete.csv*"
   ]
  },
  {
   "cell_type": "code",
   "execution_count": null,
   "metadata": {
    "collapsed": true
   },
   "outputs": [],
   "source": []
  }
 ],
 "metadata": {
  "kernelspec": {
   "display_name": "Python 3",
   "language": "python",
   "name": "python3"
  },
  "language_info": {
   "codemirror_mode": {
    "name": "ipython",
    "version": 3
   },
   "file_extension": ".py",
   "mimetype": "text/x-python",
   "name": "python",
   "nbconvert_exporter": "python",
   "pygments_lexer": "ipython3",
   "version": "3.6.1"
  }
 },
 "nbformat": 4,
 "nbformat_minor": 2
}
